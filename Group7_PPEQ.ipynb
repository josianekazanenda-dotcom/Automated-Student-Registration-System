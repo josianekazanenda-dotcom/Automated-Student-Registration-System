{
 "cells": [
  {
   "cell_type": "code",
   "execution_count": 1,
   "id": "1ea0c3d9",
   "metadata": {},
   "outputs": [],
   "source": [
    "registered_counts = {}\n",
    "def normalize_name(name):\n",
    "    \"\"\"\n",
    "    This function does:\n",
    "     1.Normalize accented characters.\n",
    "     2.Remove spaces and hyphens.\n",
    "     3.Convert the name to uppercase.\n",
    "    Input: name(string)\n",
    "    Output: Return the name in uppercase without spaces,hyphens,accented characters.\n",
    "     \"\"\"\n",
    "    accents = {\n",
    "        'Á':'A','À':'A','Â':'A','Ä':'A','Ã':'A','Å':'A','Ā':'A','á':'A','à':'A','ä':'A','â':'A','ã':'A','å':'A','ā':'A',\n",
    "        'É':'E','È':'E','Ê':'E','Ë':'E','Ē':'E','é':'E','è':'E','ê':'E','ë':'E','ē':'E',\n",
    "        'Í':'I','Ì':'I','Ï':'I','Î':'I','ī':'I','í':'I','ì':'I','ï':'I','î':'I',\n",
    "        'Ó':'O','Ò':'O','Ö':'O','Ô':'O','Õ':'O','Ō':'O','ó':'O','ò':'O','ö':'O','ô':'O','õ':'O','ō':'O',\n",
    "        'Ú':'U','Ù':'U','Û':'U','Ü':'U','Ū':'U','ú':'U','ù':'U','û':'U','ü':'U','ū':'U',\n",
    "        'Ç':'C','ç':'C','Ñ':'N','ñ':'N'\n",
    "    }\n",
    "    name = ''.join(accents.get(ch, ch) for ch in name)\n",
    "    return name.replace(\" \", \"\").replace(\"-\", \"\").upper()"
   ]
  },
  {
   "cell_type": "code",
   "execution_count": 2,
   "id": "b09b8ca8",
   "metadata": {},
   "outputs": [
    {
     "name": "stdout",
     "output_type": "stream",
     "text": [
      "ONEIL\n",
      "JOHNPAUL\n"
     ]
    }
   ],
   "source": [
    "print(normalize_name(\"Óneil\"))\n",
    "print(normalize_name(\" John-Paul\"))"
   ]
  },
  {
   "cell_type": "code",
   "execution_count": 3,
   "id": "19e5a8d1",
   "metadata": {},
   "outputs": [],
   "source": [
    "def is_valid_name(name):\n",
    "    \"\"\"\n",
    "    This fuction will ensure that names contain only alphabetic characters,\n",
    "    spaces, or hy-phens.\n",
    "    Input: Name(string)\n",
    "    Outpur:Return True or False.\n",
    "    \"\"\"\n",
    "    for ch in name:\n",
    "        if not (ch.isalpha() or ch in [' ', '-']):\n",
    "            return False\n",
    "    return True"
   ]
  },
  {
   "cell_type": "code",
   "execution_count": 4,
   "id": "c45e3087",
   "metadata": {},
   "outputs": [
    {
     "name": "stdout",
     "output_type": "stream",
     "text": [
      "False\n",
      "False\n"
     ]
    }
   ],
   "source": [
    "print(is_valid_name(\"josiane$\"))\n",
    "print(is_valid_name(\"josiane3\"))"
   ]
  },
  {
   "cell_type": "code",
   "execution_count": 5,
   "id": "5a49de87",
   "metadata": {},
   "outputs": [],
   "source": [
    "def extract_consonants(name):\n",
    "    \"\"\"\n",
    "    This function will extract the first three consonants of the last name, and\n",
    "    if the last name does not contain three consonants, pad the missing ones with \"x\".\n",
    "    Input:Name(string).\n",
    "    Output:three consonants.\n",
    "    \"\"\"\n",
    "    consonants = [c for c in name if c not in \"AEIOU\"]\n",
    "    return ''.join(consonants[:3]).ljust(3, 'X')"
   ]
  },
  {
   "cell_type": "code",
   "execution_count": 6,
   "id": "a8de4c2d",
   "metadata": {},
   "outputs": [
    {
     "name": "stdout",
     "output_type": "stream",
     "text": [
      "YXX\n"
     ]
    }
   ],
   "source": [
    "print(extract_consonants(\"YAE\"))"
   ]
  },
  {
   "cell_type": "code",
   "execution_count": 7,
   "id": "f5106597",
   "metadata": {},
   "outputs": [],
   "source": [
    "def extract_first_letters(name):\n",
    "    \"\"\"\n",
    "    This function will extract the first three letters of the first name, and\n",
    "    if the first name has fewer than three letters, pad with \"x\".\n",
    "    Input:Name(string).\n",
    "    Output:three letters.\n",
    "    \"\"\"\n",
    "    return name[:3].ljust(3, 'X')"
   ]
  },
  {
   "cell_type": "code",
   "execution_count": 8,
   "id": "77af54a5",
   "metadata": {},
   "outputs": [
    {
     "name": "stdout",
     "output_type": "stream",
     "text": [
      "ABX\n"
     ]
    }
   ],
   "source": [
    "print(extract_first_letters(\"AB\"))"
   ]
  },
  {
   "cell_type": "code",
   "execution_count": 9,
   "id": "44272ab4",
   "metadata": {},
   "outputs": [],
   "source": [
    "def generate_registration_number(last_name, first_name):\n",
    "    \"\"\"\n",
    "    This function generates the student’s registration number according to the rules provided.\n",
    "    Input:Two string (firstname, last name).\n",
    "    Output:Return a unique registration number.\n",
    "    \"\"\"\n",
    "    if not is_valid_name(last_name) or not is_valid_name(first_name):\n",
    "        return \"Error: your name must contain only letters, spaces, or hyphens.\"\n",
    "    lastName = normalize_name(last_name)\n",
    "    firstName = normalize_name(first_name)\n",
    "    field1 = extract_consonants(lastName)\n",
    "    field2 = extract_first_letters(firstName)\n",
    "    prefix = field1 + field2\n",
    "    count = registered_counts.get(prefix, 0) + 1\n",
    "    registered_counts[prefix] = count\n",
    "    field3 = f\"{count:03d}\"\n",
    "    return prefix + field3"
   ]
  },
  {
   "cell_type": "code",
   "execution_count": 10,
   "id": "2351ac16",
   "metadata": {},
   "outputs": [
    {
     "name": "stdout",
     "output_type": "stream",
     "text": [
      "BBKALW001\n"
     ]
    }
   ],
   "source": [
    "print(generate_registration_number(\"Babekir\",\"Alwia\"))"
   ]
  },
  {
   "cell_type": "code",
   "execution_count": 11,
   "id": "12b2bb58",
   "metadata": {},
   "outputs": [
    {
     "name": "stdout",
     "output_type": "stream",
     "text": [
      "Enter last name (or 'q' to quit): vivane\n",
      "Enter first name: maniraguha\n",
      " Registration Number: VVNMAN001\n",
      "-----------------------------------------\n",
      "Enter last name (or 'q' to quit): q\n",
      "Exiting...\n"
     ]
    }
   ],
   "source": [
    "while True:\n",
    "    last_name = input(\"Enter last name (or 'q' to quit): \")\n",
    "    if last_name.lower() == 'q':\n",
    "        break  \n",
    "    first_name = input(\"Enter first name: \")\n",
    "    if first_name.lower() == 'q':\n",
    "        break\n",
    "    reg_number = generate_registration_number(last_name, first_name)\n",
    "    print(\" Registration Number:\", reg_number)\n",
    "    print(\"-----------------------------------------\")\n",
    "print(\"Exiting...\")"
   ]
  }
 ],
 "metadata": {
  "kernelspec": {
   "display_name": "Python 3 (ipykernel)",
   "language": "python",
   "name": "python3"
  },
  "language_info": {
   "codemirror_mode": {
    "name": "ipython",
    "version": 3
   },
   "file_extension": ".py",
   "mimetype": "text/x-python",
   "name": "python",
   "nbconvert_exporter": "python",
   "pygments_lexer": "ipython3",
   "version": "3.11.5"
  }
 },
 "nbformat": 4,
 "nbformat_minor": 5
}
